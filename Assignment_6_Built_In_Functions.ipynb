{
 "cells": [
  {
   "cell_type": "code",
   "execution_count": null,
   "id": "initial_id",
   "metadata": {
    "collapsed": true
   },
   "outputs": [],
   "source": []
  },
  {
   "cell_type": "markdown",
   "source": [
    "INFO-B 210: Information Infrastructure I\n",
    "\n",
    "Assignment 6: Built-in Python Functions"
   ],
   "metadata": {
    "collapsed": false
   },
   "id": "c375c715831089e1"
  },
  {
   "cell_type": "markdown",
   "source": [
    "Purpose:\n",
    "\n",
    "The purpose of this assignment is to utilize python programming in practical setting to solve real world problems."
   ],
   "metadata": {
    "collapsed": false
   },
   "id": "3015fb015163c737"
  },
  {
   "cell_type": "markdown",
   "source": [
    "Skills:\n",
    "In order to complete this assignment you will need to\n",
    "\n",
    "use critical thinking to write code to answer the questions\n",
    "\n",
    "practice Python fundamentals and best practices"
   ],
   "metadata": {
    "collapsed": false
   },
   "id": "ef6166b2ac1783d3"
  },
  {
   "cell_type": "markdown",
   "source": [
    "Knowledge:\n",
    "\n",
    "This assignment will help you gain the following:\n",
    "\n",
    "a working knowledge of many common built-in Python functions\n",
    "\n",
    "practice intentionally calling functions"
   ],
   "metadata": {
    "collapsed": false
   },
   "id": "798442b29884ca11"
  },
  {
   "cell_type": "markdown",
   "source": [
    "1.Descriptive statistics are a type of quantitative value that describes or summarizes features from a set or group of data. There are many common forms of descriptive statistics such as mean, median, and range. The mean refers to the average of all values in the group. The median is the middle value of the group after it has been numerically sorted. Range is the difference between the highest value in the set and the lowest value in the set. Write a program that asks the user to input a lower bound, an upper bound, and a step size for the group. The given group should include at least 3 values. The program should then compute the mean, median, and range of the inputted group. Where possible try to use built-in Python functions. (40 points)"
   ],
   "metadata": {
    "collapsed": false
   },
   "id": "462ee2a1e1cd4445"
  },
  {
   "cell_type": "code",
   "outputs": [
    {
     "name": "stdout",
     "output_type": "stream",
     "text": [
      "The mean of the following number [1, 2, 3, 4, 5, 6, 7, 8, 9, 10] is 5.5\n",
      "The median of the following number [1, 2, 3, 4, 5, 6, 7, 8, 9, 10] is  5.5\n",
      "The range of the following number [1, 2, 3, 4, 5, 6, 7, 8, 9, 10] is 9\n"
     ]
    }
   ],
   "source": [
    "list_numb = []\n",
    "collection_num = []\n",
    "count = 0\n",
    "num_median = 0\n",
    "num_mean = 0\n",
    "user_input = \"\"\n",
    "while count != 1:\n",
    "    try:\n",
    "        user_input = input(\"Please enter three numbers separated by commas, lower bound,upper bound and step size, numbers would like to know Mean, Median, and Range:\")\n",
    "        list_numb = [int(i) for i in user_input.split(\",\")]\n",
    "        break\n",
    "    except ValueError:\n",
    "        print(\"An unexpected error occurred:\")\n",
    "        continue\n",
    "#print(\"Numbers:\",list_numb)\n",
    "for num in range(list_numb[0],list_numb[1]+1,list_numb[2]):\n",
    "      collection_num.append(num)\n",
    "#find mean, median, & Range\n",
    "total_sum = sum( collection_num)\n",
    "if len( collection_num) != 0:\n",
    "    num_mean = total_sum / len(collection_num)\n",
    "num_range =max( collection_num) - min( collection_num)\n",
    "order_num =sorted( collection_num)\n",
    "count_items = int(len(order_num))\n",
    "\n",
    "if len(order_num) % 2 != 0:\n",
    "    num_median = collection_num[(len(collection_num)//2)]\n",
    "    \n",
    "else:\n",
    "    num_1 = len(order_num)//2\n",
    "    num_2 = order_num[num_1] + order_num[num_1-1]\n",
    "    num_median = num_2 / 2   \n",
    "    \n",
    "print(f\"The mean of the following number {collection_num[0:]} is {num_mean}\")\n",
    "print(f\"The median of the following number {collection_num[0:]} is  {num_median}\")\n",
    "print(f\"The range of the following number {collection_num[0:]} is {num_range}\")\n",
    "\n"
   ],
   "metadata": {
    "collapsed": false,
    "ExecuteTime": {
     "end_time": "2024-02-28T04:25:50.391686600Z",
     "start_time": "2024-02-28T04:25:45.916725300Z"
    }
   },
   "id": "21bc936fe718b1a3",
   "execution_count": 18
  },
  {
   "cell_type": "code",
   "outputs": [
    {
     "name": "stdout",
     "output_type": "stream",
     "text": [
      "The mean of the following number [1, 2, 3, 4, 5, 6, 7, 8, 9, 10] is 5.5\n",
      "The median of the following number [1, 2, 3, 4, 5, 6, 7, 8, 9, 10] is  5.5\n",
      "The range of the following number [1, 2, 3, 4, 5, 6, 7, 8, 9, 10] is 9\n"
     ]
    }
   ],
   "source": [
    "#a. 1,10,1\n",
    "list_numb = []\n",
    "collection_num = []\n",
    "count = 0\n",
    "num_median = 0\n",
    "num_mean = 0\n",
    "user_input = \"\"\n",
    "while count != 1:\n",
    "    try:\n",
    "        user_input = input(\"Please enter three numbers separated by commas, lower bound,upper bound and step size, numbers would like to know Mean, Median, and Range:\")\n",
    "        list_numb = [int(i) for i in user_input.split(\",\")]\n",
    "        break\n",
    "    except ValueError:\n",
    "        print(\"An unexpected error occurred:\")\n",
    "        continue\n",
    "#print(\"Numbers:\",list_numb)\n",
    "for num in range(list_numb[0],list_numb[1]+1,list_numb[2]):\n",
    "      collection_num.append(num)\n",
    "#find mean, median, & Range\n",
    "total_sum = sum( collection_num)\n",
    "if len( collection_num) != 0:\n",
    "    num_mean = total_sum / len(collection_num)\n",
    "num_range =max( collection_num) - min( collection_num)\n",
    "order_num =sorted( collection_num)\n",
    "count_items = int(len(order_num))\n",
    "\n",
    "if len(order_num) % 2 != 0:\n",
    "    num_median = collection_num[(len(collection_num)//2)]\n",
    "    \n",
    "else:\n",
    "    num_1 = len(order_num)//2\n",
    "    num_2 = order_num[num_1] + order_num[num_1-1]\n",
    "    num_median = num_2 / 2   \n",
    "    \n",
    "print(f\"The mean of the following number {collection_num[0:]} is {num_mean}\")\n",
    "print(f\"The median of the following number {collection_num[0:]} is  {num_median}\")\n",
    "print(f\"The range of the following number {collection_num[0:]} is {num_range}\")\n"
   ],
   "metadata": {
    "collapsed": false,
    "ExecuteTime": {
     "end_time": "2024-02-28T04:26:27.212005500Z",
     "start_time": "2024-02-28T04:26:22.706421200Z"
    }
   },
   "id": "2013cebaa05e1544",
   "execution_count": 19
  },
  {
   "cell_type": "code",
   "outputs": [
    {
     "name": "stdout",
     "output_type": "stream",
     "text": [
      "The mean of the following number [1, 4] is 2.5\n",
      "The median of the following number [1, 4] is  2.5\n",
      "The range of the following number [1, 4] is 3\n"
     ]
    }
   ],
   "source": [
    "#b. 1,5,3\n",
    "list_numb = []\n",
    "collection_num = []\n",
    "count = 0\n",
    "num_median = 0\n",
    "num_mean = 0\n",
    "user_input = \"\"\n",
    "while count != 1:\n",
    "    try:\n",
    "        user_input = input(\"Please enter three numbers separated by commas, lower bound,upper bound and step size, numbers would like to know Mean, Median, and Range:\")\n",
    "        list_numb = [int(i) for i in user_input.split(\",\")]\n",
    "        break\n",
    "    except ValueError:\n",
    "        print(\"An unexpected error occurred:\")\n",
    "        continue\n",
    "#print(\"Numbers:\",list_numb)\n",
    "for num in range(list_numb[0],list_numb[1]+1,list_numb[2]):\n",
    "      collection_num.append(num)\n",
    "#find mean, median, & Range\n",
    "total_sum = sum( collection_num)\n",
    "if len( collection_num) != 0:\n",
    "    num_mean = total_sum / len(collection_num)\n",
    "num_range =max( collection_num) - min( collection_num)\n",
    "order_num =sorted( collection_num)\n",
    "count_items = int(len(order_num))\n",
    "\n",
    "if len(order_num) % 2 != 0:\n",
    "    num_median = collection_num[(len(collection_num)//2)]\n",
    "    \n",
    "else:\n",
    "    num_1 = len(order_num)//2\n",
    "    num_2 = order_num[num_1] + order_num[num_1-1]\n",
    "    num_median = num_2 / 2   \n",
    "    \n",
    "print(f\"The mean of the following number {collection_num[0:]} is {num_mean}\")\n",
    "print(f\"The median of the following number {collection_num[0:]} is  {num_median}\")\n",
    "print(f\"The range of the following number {collection_num[0:]} is {num_range}\")\n"
   ],
   "metadata": {
    "collapsed": false,
    "ExecuteTime": {
     "end_time": "2024-02-28T04:26:38.200778500Z",
     "start_time": "2024-02-28T04:26:30.757331800Z"
    }
   },
   "id": "b427c7f029cf0f2e",
   "execution_count": 20
  },
  {
   "cell_type": "code",
   "outputs": [
    {
     "name": "stdout",
     "output_type": "stream",
     "text": [
      "The mean of the following number [] is 0\n",
      "The median of the following number [] is  6.5\n",
      "The range of the following number [] is 7\n"
     ]
    }
   ],
   "source": [
    "#c. 10,1,-1\n",
    "list_numb = []\n",
    "collection_num = []\n",
    "count = 0\n",
    "num_median = 0\n",
    "num_mean = 0\n",
    "user_input = \"\"\n",
    "while count != 1:\n",
    "    try:\n",
    "        user_input = input(\"Please enter three numbers separated by commas, lower bound,upper bound and step size, numbers would like to know Mean, Median, and Range:\")\n",
    "        list_numb = [int(i) for i in user_input.split(\",\")]\n",
    "        break\n",
    "    except ValueError:\n",
    "        print(\"An unexpected error occurred:\")\n",
    "        continue\n",
    "#print(\"Numbers:\",list_numb)\n",
    "for num in range(list_numb[0],list_numb[1]+1,list_numb[2]):\n",
    "      collection_num.append(num)\n",
    "#find mean, median, & Range\n",
    "total_sum = sum( collection_num)\n",
    "if len( collection_num) != 0:\n",
    "    num_mean = total_sum / len(collection_num)\n",
    "    num_range =max(collection_num) - min( collection_num)\n",
    "    order_num =sorted( collection_num)\n",
    "    count_items = int(len(order_num))\n",
    "\n",
    "if len(order_num) % 2 != 0:\n",
    "    num_median = collection_num[(len(collection_num)//2)]\n",
    "    \n",
    "elif len(order_num) > 0:\n",
    "    num_1 = len(order_num)//2\n",
    "    num_2 = order_num[num_1] + order_num[num_1-1]\n",
    "    num_median = num_2 / 2\n",
    "else:\n",
    "    print(\"There is unexpected error.\")\n",
    "    \n",
    "print(f\"The mean of the following number {collection_num[0:]} is {num_mean}\")\n",
    "print(f\"The median of the following number {collection_num[0:]} is  {num_median}\")\n",
    "print(f\"The range of the following number {collection_num[0:]} is {num_range}\")\n"
   ],
   "metadata": {
    "collapsed": false,
    "ExecuteTime": {
     "end_time": "2024-02-28T04:35:57.031956700Z",
     "start_time": "2024-02-28T04:35:46.283746700Z"
    }
   },
   "id": "79a0cd15ab245e83",
   "execution_count": 28
  },
  {
   "cell_type": "code",
   "outputs": [
    {
     "name": "stdout",
     "output_type": "stream",
     "text": [
      "There is unexpected error.\n",
      "The mean of the following number [] is 0\n",
      "The median of the following number [] is  0\n",
      "The range of the following number [] is 3\n"
     ]
    }
   ],
   "source": [
    "#d. 1,10,-1\n",
    "list_numb = []\n",
    "collection_num = []\n",
    "count = 0\n",
    "num_median = 0\n",
    "num_mean = 0\n",
    "user_input = \"\"\n",
    "while count != 1:\n",
    "    try:\n",
    "        user_input = input(\"Please enter three numbers separated by commas, lower bound,upper bound and step size, numbers would like to know Mean, Median, and Range:\")\n",
    "        list_numb = [int(i) for i in user_input.split(\",\")]\n",
    "        break\n",
    "    except ValueError:\n",
    "        print(\"An unexpected error occurred:\")\n",
    "        continue\n",
    "#print(\"Numbers:\",list_numb)\n",
    "for num in range(list_numb[0],list_numb[1]+1,list_numb[2]):\n",
    "      collection_num.append(num)\n",
    "#find mean, median, & Range\n",
    "total_sum = sum( collection_num)\n",
    "if len( collection_num) != 0:\n",
    "    num_mean = total_sum / len(collection_num)\n",
    "    num_range =max(collection_num) - min( collection_num)\n",
    "    order_num =sorted( collection_num)\n",
    "    count_items = int(len(order_num))\n",
    "\n",
    "if len(order_num) % 2 != 0:\n",
    "    num_median = collection_num[(len(collection_num)//2)]\n",
    "    \n",
    "elif len(order_num) > 0:\n",
    "    num_1 = len(order_num)//2\n",
    "    num_2 = order_num[num_1] + order_num[num_1-1]\n",
    "    num_median = num_2 / 2\n",
    "else:\n",
    "    print(\"There is unexpected error.\")\n",
    "    \n",
    "print(f\"The mean of the following number {collection_num[0:]} is {num_mean}\")\n",
    "print(f\"The median of the following number {collection_num[0:]} is  {num_median}\")\n",
    "print(f\"The range of the following number {collection_num[0:]} is {num_range}\")\n"
   ],
   "metadata": {
    "collapsed": false,
    "ExecuteTime": {
     "end_time": "2024-02-28T04:34:33.099294700Z",
     "start_time": "2024-02-28T04:34:27.513375600Z"
    }
   },
   "id": "20fd70ee455f4efa",
   "execution_count": 26
  },
  {
   "cell_type": "markdown",
   "source": [
    "2.Inspired by one of our previous exercises about cryptography, a group of students has developed a cipher to allow for coded communication between them. This cipher uses a combination of ascii, decimal, and octal values. The values would be written in decimal values, which would then need to be transformed to octal values, before being translated into ascii characters. Unless, that value can’t be written in octal value, then it will listed as a negative decimal value. Write a program that takes a string of numbers as input and will return the translated message. (40 points)"
   ],
   "metadata": {
    "collapsed": false
   },
   "id": "81206603b09583ae"
  },
  {
   "cell_type": "code",
   "outputs": [],
   "source": [
    "#a.57 73 73 64 26 -108 79 -99 71 26 73 72 26 81 73 79 76 26 -109 69 64 78 65 76 -109 27"
   ],
   "metadata": {
    "collapsed": false
   },
   "id": "fc6738337741b4e9"
  },
  {
   "cell_type": "code",
   "outputs": [
    {
     "name": "stdout",
     "output_type": "stream",
     "text": [
      "[\"'0o71'\", \"'0o111'\", \"'0o111'\", \"'0o100'\", \"'0o32'\", \"'-0o154'\", \"'0o117'\", \"'-0o143'\", \"'0o107'\", \"'0o32'\", \"'0o111'\", \"'0o110'\", \"'0o32'\", \"'0o121'\", \"'0o111'\", \"'0o117'\", \"'0o114'\", \"'0o32'\", \"'-0o155'\", \"'0o105'\", \"'0o100'\", \"'0o116'\", \"'0o101'\", \"'0o114'\", \"'-0o155'\", \"'0o33'\"]\n"
     ]
    }
   ],
   "source": [
    "crazy_number = [57, 73, 73, 64, 26, -108, 79, -99,71, 26, 73 ,72, 26, 81, 73, 79, 76, 26, -109, 69, 64, 78, 65, 76, -109, 27]\n",
    "empty_crazy_number = []\n",
    "for i in crazy_number:\n",
    "    #if i >= 0:\n",
    "        convert1 = oct(i)\n",
    "        convert2 = ascii(convert1)\n",
    "        empty_crazy_number.append(convert2)\n",
    "    \n",
    "print(empty_crazy_number)\n"
   ],
   "metadata": {
    "collapsed": false,
    "ExecuteTime": {
     "end_time": "2024-02-28T03:02:40.499161200Z",
     "start_time": "2024-02-28T03:02:40.482573Z"
    }
   },
   "id": "8ad24efcae629e2c",
   "execution_count": 5
  },
  {
   "cell_type": "code",
   "outputs": [],
   "source": [],
   "metadata": {
    "collapsed": false
   },
   "id": "b1c345aa5f508b0f"
  }
 ],
 "metadata": {
  "kernelspec": {
   "display_name": "Python 3",
   "language": "python",
   "name": "python3"
  },
  "language_info": {
   "codemirror_mode": {
    "name": "ipython",
    "version": 2
   },
   "file_extension": ".py",
   "mimetype": "text/x-python",
   "name": "python",
   "nbconvert_exporter": "python",
   "pygments_lexer": "ipython2",
   "version": "2.7.6"
  }
 },
 "nbformat": 4,
 "nbformat_minor": 5
}
